{
 "cells": [
  {
   "cell_type": "code",
   "execution_count": 1,
   "id": "fa9815a9",
   "metadata": {},
   "outputs": [],
   "source": [
    "import pandas as pd\n",
    "import matplotlib.pyplot as plt\n",
    "from sklearn.cluster import KMeans\n"
   ]
  },
  {
   "cell_type": "code",
   "execution_count": 2,
   "id": "bfe516e0",
   "metadata": {},
   "outputs": [
    {
     "data": {
      "text/html": [
       "<div>\n",
       "<style scoped>\n",
       "    .dataframe tbody tr th:only-of-type {\n",
       "        vertical-align: middle;\n",
       "    }\n",
       "\n",
       "    .dataframe tbody tr th {\n",
       "        vertical-align: top;\n",
       "    }\n",
       "\n",
       "    .dataframe thead th {\n",
       "        text-align: right;\n",
       "    }\n",
       "</style>\n",
       "<table border=\"1\" class=\"dataframe\">\n",
       "  <thead>\n",
       "    <tr style=\"text-align: right;\">\n",
       "      <th></th>\n",
       "      <th>city</th>\n",
       "      <th>Best_Value_Index</th>\n",
       "      <th>CWYK_Index</th>\n",
       "      <th>Retiree_Index</th>\n",
       "      <th>YP_Index</th>\n",
       "    </tr>\n",
       "  </thead>\n",
       "  <tbody>\n",
       "    <tr>\n",
       "      <th>0</th>\n",
       "      <td>Abilene city, Texas</td>\n",
       "      <td>0.901207</td>\n",
       "      <td>0.851076</td>\n",
       "      <td>0.866168</td>\n",
       "      <td>0.962503</td>\n",
       "    </tr>\n",
       "    <tr>\n",
       "      <th>1</th>\n",
       "      <td>Addison village, Illinois</td>\n",
       "      <td>0.775693</td>\n",
       "      <td>0.757069</td>\n",
       "      <td>0.787693</td>\n",
       "      <td>0.806168</td>\n",
       "    </tr>\n",
       "    <tr>\n",
       "      <th>2</th>\n",
       "      <td>Alafaya CDP, Florida</td>\n",
       "      <td>0.871782</td>\n",
       "      <td>0.887348</td>\n",
       "      <td>0.823137</td>\n",
       "      <td>0.930423</td>\n",
       "    </tr>\n",
       "    <tr>\n",
       "      <th>3</th>\n",
       "      <td>Algonquin village, Illinois</td>\n",
       "      <td>0.857186</td>\n",
       "      <td>0.816892</td>\n",
       "      <td>0.830228</td>\n",
       "      <td>0.818418</td>\n",
       "    </tr>\n",
       "    <tr>\n",
       "      <th>4</th>\n",
       "      <td>Allen city, Texas</td>\n",
       "      <td>0.875983</td>\n",
       "      <td>0.885058</td>\n",
       "      <td>0.848536</td>\n",
       "      <td>0.863848</td>\n",
       "    </tr>\n",
       "    <tr>\n",
       "      <th>...</th>\n",
       "      <td>...</td>\n",
       "      <td>...</td>\n",
       "      <td>...</td>\n",
       "      <td>...</td>\n",
       "      <td>...</td>\n",
       "    </tr>\n",
       "    <tr>\n",
       "      <th>491</th>\n",
       "      <td>Woodstock city, Illinois</td>\n",
       "      <td>0.851158</td>\n",
       "      <td>0.811257</td>\n",
       "      <td>0.792950</td>\n",
       "      <td>0.877531</td>\n",
       "    </tr>\n",
       "    <tr>\n",
       "      <th>492</th>\n",
       "      <td>Wright CDP, Florida</td>\n",
       "      <td>0.850223</td>\n",
       "      <td>0.834810</td>\n",
       "      <td>0.789313</td>\n",
       "      <td>0.914090</td>\n",
       "    </tr>\n",
       "    <tr>\n",
       "      <th>493</th>\n",
       "      <td>Wylie city, Texas</td>\n",
       "      <td>0.883945</td>\n",
       "      <td>0.880463</td>\n",
       "      <td>0.812412</td>\n",
       "      <td>0.927621</td>\n",
       "    </tr>\n",
       "    <tr>\n",
       "      <th>494</th>\n",
       "      <td>Yuma city, Arizona</td>\n",
       "      <td>0.819254</td>\n",
       "      <td>0.757194</td>\n",
       "      <td>0.759705</td>\n",
       "      <td>0.828967</td>\n",
       "    </tr>\n",
       "    <tr>\n",
       "      <th>495</th>\n",
       "      <td>Zion city, Illinois</td>\n",
       "      <td>0.826915</td>\n",
       "      <td>0.785680</td>\n",
       "      <td>0.755023</td>\n",
       "      <td>0.814385</td>\n",
       "    </tr>\n",
       "  </tbody>\n",
       "</table>\n",
       "<p>496 rows × 5 columns</p>\n",
       "</div>"
      ],
      "text/plain": [
       "                            city  Best_Value_Index  CWYK_Index  Retiree_Index  \\\n",
       "0            Abilene city, Texas          0.901207    0.851076       0.866168   \n",
       "1      Addison village, Illinois          0.775693    0.757069       0.787693   \n",
       "2           Alafaya CDP, Florida          0.871782    0.887348       0.823137   \n",
       "3    Algonquin village, Illinois          0.857186    0.816892       0.830228   \n",
       "4              Allen city, Texas          0.875983    0.885058       0.848536   \n",
       "..                           ...               ...         ...            ...   \n",
       "491     Woodstock city, Illinois          0.851158    0.811257       0.792950   \n",
       "492          Wright CDP, Florida          0.850223    0.834810       0.789313   \n",
       "493            Wylie city, Texas          0.883945    0.880463       0.812412   \n",
       "494           Yuma city, Arizona          0.819254    0.757194       0.759705   \n",
       "495          Zion city, Illinois          0.826915    0.785680       0.755023   \n",
       "\n",
       "     YP_Index  \n",
       "0    0.962503  \n",
       "1    0.806168  \n",
       "2    0.930423  \n",
       "3    0.818418  \n",
       "4    0.863848  \n",
       "..        ...  \n",
       "491  0.877531  \n",
       "492  0.914090  \n",
       "493  0.927621  \n",
       "494  0.828967  \n",
       "495  0.814385  \n",
       "\n",
       "[496 rows x 5 columns]"
      ]
     },
     "execution_count": 2,
     "metadata": {},
     "output_type": "execute_result"
    }
   ],
   "source": [
    "df=pd.read_csv('E:\\XREA_Project_Documents\\indexing-application-main\\Data\\indices.csv')\n",
    "df"
   ]
  },
  {
   "cell_type": "code",
   "execution_count": 3,
   "id": "d8907db4",
   "metadata": {},
   "outputs": [
    {
     "data": {
      "text/plain": [
       "Text(0, 0.5, 'Couples with Young Kids')"
      ]
     },
     "execution_count": 3,
     "metadata": {},
     "output_type": "execute_result"
    },
    {
     "data": {
      "image/png": "[encoded data removed]",
      "text/plain": [
       "<Figure size 640x480 with 1 Axes>"
      ]
     },
     "metadata": {},
     "output_type": "display_data"
    }
   ],
   "source": [
    "# Quick statistical and visual understanding of the data before implementation of the algorithm\n",
    "\n",
    "# Scatter Diagram with Young Professionals and Couples with Young Kids\n",
    "plt.scatter(df[\"YP_Index\"], \n",
    "            df[\"CWYK_Index\"])\n",
    "\n",
    "plt.xlabel(\"Young Professionals\")\n",
    "plt.ylabel(\"Couples with Young Kids\")"
   ]
  },
  {
   "cell_type": "code",
   "execution_count": 4,
   "id": "6cfc2dfc",
   "metadata": {},
   "outputs": [
    {
     "data": {
      "text/plain": [
       "Text(0, 0.5, 'Retirees')"
      ]
     },
     "execution_count": 4,
     "metadata": {},
     "output_type": "execute_result"
    },
    {
     "data": {
      "image/png": "[encoded data removed]",
      "text/plain": [
       "<Figure size 640x480 with 1 Axes>"
      ]
     },
     "metadata": {},
     "output_type": "display_data"
    }
   ],
   "source": [
    "# Scatter Diagram with Young Professionals and Retirees\n",
    "plt.scatter(df[\"YP_Index\"], \n",
    "            df[\"Retiree_Index\"])\n",
    "\n",
    "plt.xlabel(\"Young Professionals\")\n",
    "plt.ylabel(\"Retirees\")\n"
   ]
  },
  {
   "cell_type": "code",
   "execution_count": 7,
   "id": "e012a6de",
   "metadata": {},
   "outputs": [],
   "source": [
    "df1=df.drop(['city'],axis=1)"
   ]
  },
  {
   "cell_type": "code",
   "execution_count": 8,
   "id": "a74d7928",
   "metadata": {},
   "outputs": [
    {
     "data": {
      "text/html": [
       "<div>\n",
       "<style scoped>\n",
       "    .dataframe tbody tr th:only-of-type {\n",
       "        vertical-align: middle;\n",
       "    }\n",
       "\n",
       "    .dataframe tbody tr th {\n",
       "        vertical-align: top;\n",
       "    }\n",
       "\n",
       "    .dataframe thead th {\n",
       "        text-align: right;\n",
       "    }\n",
       "</style>\n",
       "<table border=\"1\" class=\"dataframe\">\n",
       "  <thead>\n",
       "    <tr style=\"text-align: right;\">\n",
       "      <th></th>\n",
       "      <th>Best_Value_Index</th>\n",
       "      <th>CWYK_Index</th>\n",
       "      <th>Retiree_Index</th>\n",
       "      <th>YP_Index</th>\n",
       "    </tr>\n",
       "  </thead>\n",
       "  <tbody>\n",
       "    <tr>\n",
       "      <th>0</th>\n",
       "      <td>0.901207</td>\n",
       "      <td>0.851076</td>\n",
       "      <td>0.866168</td>\n",
       "      <td>0.962503</td>\n",
       "    </tr>\n",
       "    <tr>\n",
       "      <th>1</th>\n",
       "      <td>0.775693</td>\n",
       "      <td>0.757069</td>\n",
       "      <td>0.787693</td>\n",
       "      <td>0.806168</td>\n",
       "    </tr>\n",
       "    <tr>\n",
       "      <th>2</th>\n",
       "      <td>0.871782</td>\n",
       "      <td>0.887348</td>\n",
       "      <td>0.823137</td>\n",
       "      <td>0.930423</td>\n",
       "    </tr>\n",
       "    <tr>\n",
       "      <th>3</th>\n",
       "      <td>0.857186</td>\n",
       "      <td>0.816892</td>\n",
       "      <td>0.830228</td>\n",
       "      <td>0.818418</td>\n",
       "    </tr>\n",
       "    <tr>\n",
       "      <th>4</th>\n",
       "      <td>0.875983</td>\n",
       "      <td>0.885058</td>\n",
       "      <td>0.848536</td>\n",
       "      <td>0.863848</td>\n",
       "    </tr>\n",
       "    <tr>\n",
       "      <th>...</th>\n",
       "      <td>...</td>\n",
       "      <td>...</td>\n",
       "      <td>...</td>\n",
       "      <td>...</td>\n",
       "    </tr>\n",
       "    <tr>\n",
       "      <th>491</th>\n",
       "      <td>0.851158</td>\n",
       "      <td>0.811257</td>\n",
       "      <td>0.792950</td>\n",
       "      <td>0.877531</td>\n",
       "    </tr>\n",
       "    <tr>\n",
       "      <th>492</th>\n",
       "      <td>0.850223</td>\n",
       "      <td>0.834810</td>\n",
       "      <td>0.789313</td>\n",
       "      <td>0.914090</td>\n",
       "    </tr>\n",
       "    <tr>\n",
       "      <th>493</th>\n",
       "      <td>0.883945</td>\n",
       "      <td>0.880463</td>\n",
       "      <td>0.812412</td>\n",
       "      <td>0.927621</td>\n",
       "    </tr>\n",
       "    <tr>\n",
       "      <th>494</th>\n",
       "      <td>0.819254</td>\n",
       "      <td>0.757194</td>\n",
       "      <td>0.759705</td>\n",
       "      <td>0.828967</td>\n",
       "    </tr>\n",
       "    <tr>\n",
       "      <th>495</th>\n",
       "      <td>0.826915</td>\n",
       "      <td>0.785680</td>\n",
       "      <td>0.755023</td>\n",
       "      <td>0.814385</td>\n",
       "    </tr>\n",
       "  </tbody>\n",
       "</table>\n",
       "<p>496 rows × 4 columns</p>\n",
       "</div>"
      ],
      "text/plain": [
       "     Best_Value_Index  CWYK_Index  Retiree_Index  YP_Index\n",
       "0            0.901207    0.851076       0.866168  0.962503\n",
       "1            0.775693    0.757069       0.787693  0.806168\n",
       "2            0.871782    0.887348       0.823137  0.930423\n",
       "3            0.857186    0.816892       0.830228  0.818418\n",
       "4            0.875983    0.885058       0.848536  0.863848\n",
       "..                ...         ...            ...       ...\n",
       "491          0.851158    0.811257       0.792950  0.877531\n",
       "492          0.850223    0.834810       0.789313  0.914090\n",
       "493          0.883945    0.880463       0.812412  0.927621\n",
       "494          0.819254    0.757194       0.759705  0.828967\n",
       "495          0.826915    0.785680       0.755023  0.814385\n",
       "\n",
       "[496 rows x 4 columns]"
      ]
     },
     "execution_count": 8,
     "metadata": {},
     "output_type": "execute_result"
    }
   ],
   "source": [
    "df1"
   ]
  },
  {
   "cell_type": "code",
   "execution_count": 9,
   "id": "ff5d9531",
   "metadata": {},
   "outputs": [],
   "source": [
    "# We are going to consider a heuristic approach called Elbow method -- the one of the widely \n",
    "# used to find the optimal number of clusters\n",
    "\n",
    "# The first helper function creates for each value of K the corresponding KMeans model and saves \n",
    "# its inertia along with the actual K value\n",
    "\n",
    "def find_best_clusters(input_data_frame, max_K):\n",
    "    \n",
    "    clusters_centers = []\n",
    "    k_values = []\n",
    "    \n",
    "    for cluster_index in range(1, max_K):\n",
    "        \n",
    "        kmeans_model = KMeans(n_clusters = cluster_index)\n",
    "        kmeans_model.fit(input_data_frame)\n",
    "        \n",
    "        clusters_centers.append(kmeans_model.inertia_)\n",
    "        k_values.append(cluster_index)\n",
    "        \n",
    "    \n",
    "    return clusters_centers, k_values"
   ]
  },
  {
   "cell_type": "code",
   "execution_count": 10,
   "id": "d7c80f1a",
   "metadata": {},
   "outputs": [],
   "source": [
    "def generate_elbow_plot(clusters_centers, k_values):\n",
    "    \n",
    "    figure = plt.subplots(figsize = (12, 6))\n",
    "    plt.plot(k_values, clusters_centers, 'o-', color = 'orange')\n",
    "    plt.xlabel(\"Number of Clusters (K)\")\n",
    "    plt.ylabel(\"Cluster Inertia\")\n",
    "    plt.title(\"Elbow Plot of KMeans\")\n",
    "    plt.show()"
   ]
  },
  {
   "cell_type": "code",
   "execution_count": 11,
   "id": "3c5a39ac",
   "metadata": {},
   "outputs": [
    {
     "data": {
      "image/png": "[encoded data removed]",
      "text/plain": [
       "<Figure size 1200x600 with 1 Axes>"
      ]
     },
     "metadata": {},
     "output_type": "display_data"
    }
   ],
   "source": [
    "clusters_centers, k_values = find_best_clusters(df1, 12)\n",
    "generate_elbow_plot(clusters_centers, k_values)"
   ]
  },
  {
   "cell_type": "code",
   "execution_count": 12,
   "id": "fa7b9932",
   "metadata": {},
   "outputs": [],
   "source": [
    "# Once we have determined the optimal number of clusters from the Elbow plot, we can \n",
    "# finally apply the KMeans model to that value\n",
    "# The variable optimum_cluster_no is determined from the elbow plot\n",
    "\n",
    "kmeans_model = KMeans(n_clusters = 3)\n",
    "kmeans_model.fit(df1)\n",
    "df[\"clusters\"] = kmeans_model.labels_\n"
   ]
  },
  {
   "cell_type": "code",
   "execution_count": 13,
   "id": "907f1d22",
   "metadata": {},
   "outputs": [
    {
     "data": {
      "text/html": [
       "<div>\n",
       "<style scoped>\n",
       "    .dataframe tbody tr th:only-of-type {\n",
       "        vertical-align: middle;\n",
       "    }\n",
       "\n",
       "    .dataframe tbody tr th {\n",
       "        vertical-align: top;\n",
       "    }\n",
       "\n",
       "    .dataframe thead th {\n",
       "        text-align: right;\n",
       "    }\n",
       "</style>\n",
       "<table border=\"1\" class=\"dataframe\">\n",
       "  <thead>\n",
       "    <tr style=\"text-align: right;\">\n",
       "      <th></th>\n",
       "      <th>city</th>\n",
       "      <th>Best_Value_Index</th>\n",
       "      <th>CWYK_Index</th>\n",
       "      <th>Retiree_Index</th>\n",
       "      <th>YP_Index</th>\n",
       "      <th>clusters</th>\n",
       "    </tr>\n",
       "  </thead>\n",
       "  <tbody>\n",
       "    <tr>\n",
       "      <th>0</th>\n",
       "      <td>Abilene city, Texas</td>\n",
       "      <td>0.901207</td>\n",
       "      <td>0.851076</td>\n",
       "      <td>0.866168</td>\n",
       "      <td>0.962503</td>\n",
       "      <td>0</td>\n",
       "    </tr>\n",
       "    <tr>\n",
       "      <th>1</th>\n",
       "      <td>Addison village, Illinois</td>\n",
       "      <td>0.775693</td>\n",
       "      <td>0.757069</td>\n",
       "      <td>0.787693</td>\n",
       "      <td>0.806168</td>\n",
       "      <td>2</td>\n",
       "    </tr>\n",
       "    <tr>\n",
       "      <th>2</th>\n",
       "      <td>Alafaya CDP, Florida</td>\n",
       "      <td>0.871782</td>\n",
       "      <td>0.887348</td>\n",
       "      <td>0.823137</td>\n",
       "      <td>0.930423</td>\n",
       "      <td>0</td>\n",
       "    </tr>\n",
       "    <tr>\n",
       "      <th>3</th>\n",
       "      <td>Algonquin village, Illinois</td>\n",
       "      <td>0.857186</td>\n",
       "      <td>0.816892</td>\n",
       "      <td>0.830228</td>\n",
       "      <td>0.818418</td>\n",
       "      <td>0</td>\n",
       "    </tr>\n",
       "    <tr>\n",
       "      <th>4</th>\n",
       "      <td>Allen city, Texas</td>\n",
       "      <td>0.875983</td>\n",
       "      <td>0.885058</td>\n",
       "      <td>0.848536</td>\n",
       "      <td>0.863848</td>\n",
       "      <td>0</td>\n",
       "    </tr>\n",
       "    <tr>\n",
       "      <th>...</th>\n",
       "      <td>...</td>\n",
       "      <td>...</td>\n",
       "      <td>...</td>\n",
       "      <td>...</td>\n",
       "      <td>...</td>\n",
       "      <td>...</td>\n",
       "    </tr>\n",
       "    <tr>\n",
       "      <th>491</th>\n",
       "      <td>Woodstock city, Illinois</td>\n",
       "      <td>0.851158</td>\n",
       "      <td>0.811257</td>\n",
       "      <td>0.792950</td>\n",
       "      <td>0.877531</td>\n",
       "      <td>0</td>\n",
       "    </tr>\n",
       "    <tr>\n",
       "      <th>492</th>\n",
       "      <td>Wright CDP, Florida</td>\n",
       "      <td>0.850223</td>\n",
       "      <td>0.834810</td>\n",
       "      <td>0.789313</td>\n",
       "      <td>0.914090</td>\n",
       "      <td>0</td>\n",
       "    </tr>\n",
       "    <tr>\n",
       "      <th>493</th>\n",
       "      <td>Wylie city, Texas</td>\n",
       "      <td>0.883945</td>\n",
       "      <td>0.880463</td>\n",
       "      <td>0.812412</td>\n",
       "      <td>0.927621</td>\n",
       "      <td>0</td>\n",
       "    </tr>\n",
       "    <tr>\n",
       "      <th>494</th>\n",
       "      <td>Yuma city, Arizona</td>\n",
       "      <td>0.819254</td>\n",
       "      <td>0.757194</td>\n",
       "      <td>0.759705</td>\n",
       "      <td>0.828967</td>\n",
       "      <td>2</td>\n",
       "    </tr>\n",
       "    <tr>\n",
       "      <th>495</th>\n",
       "      <td>Zion city, Illinois</td>\n",
       "      <td>0.826915</td>\n",
       "      <td>0.785680</td>\n",
       "      <td>0.755023</td>\n",
       "      <td>0.814385</td>\n",
       "      <td>2</td>\n",
       "    </tr>\n",
       "  </tbody>\n",
       "</table>\n",
       "<p>496 rows × 6 columns</p>\n",
       "</div>"
      ],
      "text/plain": [
       "                            city  Best_Value_Index  CWYK_Index  Retiree_Index  \\\n",
       "0            Abilene city, Texas          0.901207    0.851076       0.866168   \n",
       "1      Addison village, Illinois          0.775693    0.757069       0.787693   \n",
       "2           Alafaya CDP, Florida          0.871782    0.887348       0.823137   \n",
       "3    Algonquin village, Illinois          0.857186    0.816892       0.830228   \n",
       "4              Allen city, Texas          0.875983    0.885058       0.848536   \n",
       "..                           ...               ...         ...            ...   \n",
       "491     Woodstock city, Illinois          0.851158    0.811257       0.792950   \n",
       "492          Wright CDP, Florida          0.850223    0.834810       0.789313   \n",
       "493            Wylie city, Texas          0.883945    0.880463       0.812412   \n",
       "494           Yuma city, Arizona          0.819254    0.757194       0.759705   \n",
       "495          Zion city, Illinois          0.826915    0.785680       0.755023   \n",
       "\n",
       "     YP_Index  clusters  \n",
       "0    0.962503         0  \n",
       "1    0.806168         2  \n",
       "2    0.930423         0  \n",
       "3    0.818418         0  \n",
       "4    0.863848         0  \n",
       "..        ...       ...  \n",
       "491  0.877531         0  \n",
       "492  0.914090         0  \n",
       "493  0.927621         0  \n",
       "494  0.828967         2  \n",
       "495  0.814385         2  \n",
       "\n",
       "[496 rows x 6 columns]"
      ]
     },
     "execution_count": 13,
     "metadata": {},
     "output_type": "execute_result"
    }
   ],
   "source": [
    "df"
   ]
  },
  {
   "cell_type": "code",
   "execution_count": 14,
   "id": "35f43bf1",
   "metadata": {},
   "outputs": [
    {
     "data": {
      "text/plain": [
       "<matplotlib.collections.PathCollection at 0x20bad508b80>"
      ]
     },
     "execution_count": 14,
     "metadata": {},
     "output_type": "execute_result"
    },
    {
     "data": {
      "image/png": "[encoded data removed]",
      "text/plain": [
       "<Figure size 640x480 with 1 Axes>"
      ]
     },
     "metadata": {},
     "output_type": "display_data"
    }
   ],
   "source": [
    "plt.scatter(df[\"Best_Value_Index\"], \n",
    "            df[\"CWYK_Index\"], \n",
    "            c = df[\"clusters\"])\n"
   ]
  },
  {
   "cell_type": "code",
   "execution_count": 15,
   "id": "8d588c28",
   "metadata": {},
   "outputs": [],
   "source": [
    "df_cluster0=df[df['clusters']==0]\n",
    "df_cluster1=df[df['clusters']==1]\n",
    "df_cluster2=df[df['clusters']==2]\n"
   ]
  },
  {
   "cell_type": "code",
   "execution_count": 16,
   "id": "b322ae2c",
   "metadata": {},
   "outputs": [
    {
     "data": {
      "text/html": [
       "<div>\n",
       "<style scoped>\n",
       "    .dataframe tbody tr th:only-of-type {\n",
       "        vertical-align: middle;\n",
       "    }\n",
       "\n",
       "    .dataframe tbody tr th {\n",
       "        vertical-align: top;\n",
       "    }\n",
       "\n",
       "    .dataframe thead th {\n",
       "        text-align: right;\n",
       "    }\n",
       "</style>\n",
       "<table border=\"1\" class=\"dataframe\">\n",
       "  <thead>\n",
       "    <tr style=\"text-align: right;\">\n",
       "      <th></th>\n",
       "      <th>city</th>\n",
       "      <th>Best_Value_Index</th>\n",
       "      <th>CWYK_Index</th>\n",
       "      <th>Retiree_Index</th>\n",
       "      <th>YP_Index</th>\n",
       "      <th>clusters</th>\n",
       "    </tr>\n",
       "  </thead>\n",
       "  <tbody>\n",
       "    <tr>\n",
       "      <th>0</th>\n",
       "      <td>Abilene city, Texas</td>\n",
       "      <td>0.901207</td>\n",
       "      <td>0.851076</td>\n",
       "      <td>0.866168</td>\n",
       "      <td>0.962503</td>\n",
       "      <td>0</td>\n",
       "    </tr>\n",
       "    <tr>\n",
       "      <th>2</th>\n",
       "      <td>Alafaya CDP, Florida</td>\n",
       "      <td>0.871782</td>\n",
       "      <td>0.887348</td>\n",
       "      <td>0.823137</td>\n",
       "      <td>0.930423</td>\n",
       "      <td>0</td>\n",
       "    </tr>\n",
       "    <tr>\n",
       "      <th>3</th>\n",
       "      <td>Algonquin village, Illinois</td>\n",
       "      <td>0.857186</td>\n",
       "      <td>0.816892</td>\n",
       "      <td>0.830228</td>\n",
       "      <td>0.818418</td>\n",
       "      <td>0</td>\n",
       "    </tr>\n",
       "    <tr>\n",
       "      <th>4</th>\n",
       "      <td>Allen city, Texas</td>\n",
       "      <td>0.875983</td>\n",
       "      <td>0.885058</td>\n",
       "      <td>0.848536</td>\n",
       "      <td>0.863848</td>\n",
       "      <td>0</td>\n",
       "    </tr>\n",
       "    <tr>\n",
       "      <th>5</th>\n",
       "      <td>Altamonte Springs city, Florida</td>\n",
       "      <td>0.844595</td>\n",
       "      <td>0.811734</td>\n",
       "      <td>0.805553</td>\n",
       "      <td>0.884311</td>\n",
       "      <td>0</td>\n",
       "    </tr>\n",
       "    <tr>\n",
       "      <th>...</th>\n",
       "      <td>...</td>\n",
       "      <td>...</td>\n",
       "      <td>...</td>\n",
       "      <td>...</td>\n",
       "      <td>...</td>\n",
       "      <td>...</td>\n",
       "    </tr>\n",
       "    <tr>\n",
       "      <th>489</th>\n",
       "      <td>Winter Springs city, Florida</td>\n",
       "      <td>0.857315</td>\n",
       "      <td>0.839300</td>\n",
       "      <td>0.863995</td>\n",
       "      <td>0.884121</td>\n",
       "      <td>0</td>\n",
       "    </tr>\n",
       "    <tr>\n",
       "      <th>490</th>\n",
       "      <td>Woodridge village, Illinois</td>\n",
       "      <td>0.853787</td>\n",
       "      <td>0.848967</td>\n",
       "      <td>0.813545</td>\n",
       "      <td>0.909059</td>\n",
       "      <td>0</td>\n",
       "    </tr>\n",
       "    <tr>\n",
       "      <th>491</th>\n",
       "      <td>Woodstock city, Illinois</td>\n",
       "      <td>0.851158</td>\n",
       "      <td>0.811257</td>\n",
       "      <td>0.792950</td>\n",
       "      <td>0.877531</td>\n",
       "      <td>0</td>\n",
       "    </tr>\n",
       "    <tr>\n",
       "      <th>492</th>\n",
       "      <td>Wright CDP, Florida</td>\n",
       "      <td>0.850223</td>\n",
       "      <td>0.834810</td>\n",
       "      <td>0.789313</td>\n",
       "      <td>0.914090</td>\n",
       "      <td>0</td>\n",
       "    </tr>\n",
       "    <tr>\n",
       "      <th>493</th>\n",
       "      <td>Wylie city, Texas</td>\n",
       "      <td>0.883945</td>\n",
       "      <td>0.880463</td>\n",
       "      <td>0.812412</td>\n",
       "      <td>0.927621</td>\n",
       "      <td>0</td>\n",
       "    </tr>\n",
       "  </tbody>\n",
       "</table>\n",
       "<p>242 rows × 6 columns</p>\n",
       "</div>"
      ],
      "text/plain": [
       "                                city  Best_Value_Index  CWYK_Index  \\\n",
       "0                Abilene city, Texas          0.901207    0.851076   \n",
       "2               Alafaya CDP, Florida          0.871782    0.887348   \n",
       "3        Algonquin village, Illinois          0.857186    0.816892   \n",
       "4                  Allen city, Texas          0.875983    0.885058   \n",
       "5    Altamonte Springs city, Florida          0.844595    0.811734   \n",
       "..                               ...               ...         ...   \n",
       "489     Winter Springs city, Florida          0.857315    0.839300   \n",
       "490      Woodridge village, Illinois          0.853787    0.848967   \n",
       "491         Woodstock city, Illinois          0.851158    0.811257   \n",
       "492              Wright CDP, Florida          0.850223    0.834810   \n",
       "493                Wylie city, Texas          0.883945    0.880463   \n",
       "\n",
       "     Retiree_Index  YP_Index  clusters  \n",
       "0         0.866168  0.962503         0  \n",
       "2         0.823137  0.930423         0  \n",
       "3         0.830228  0.818418         0  \n",
       "4         0.848536  0.863848         0  \n",
       "5         0.805553  0.884311         0  \n",
       "..             ...       ...       ...  \n",
       "489       0.863995  0.884121         0  \n",
       "490       0.813545  0.909059         0  \n",
       "491       0.792950  0.877531         0  \n",
       "492       0.789313  0.914090         0  \n",
       "493       0.812412  0.927621         0  \n",
       "\n",
       "[242 rows x 6 columns]"
      ]
     },
     "execution_count": 16,
     "metadata": {},
     "output_type": "execute_result"
    }
   ],
   "source": [
    "df_cluster0"
   ]
  },
  {
   "cell_type": "code",
   "execution_count": 17,
   "id": "ca24acfe",
   "metadata": {},
   "outputs": [
    {
     "data": {
      "text/plain": [
       "0.8784706903188689"
      ]
     },
     "execution_count": 17,
     "metadata": {},
     "output_type": "execute_result"
    }
   ],
   "source": [
    "df_cluster0['Best_Value_Index'].mean()"
   ]
  },
  {
   "cell_type": "code",
   "execution_count": 18,
   "id": "6bae1dbe",
   "metadata": {},
   "outputs": [
    {
     "data": {
      "text/plain": [
       "0.8600667319457965"
      ]
     },
     "execution_count": 18,
     "metadata": {},
     "output_type": "execute_result"
    }
   ],
   "source": [
    "df_cluster0['CWYK_Index'].mean()"
   ]
  },
  {
   "cell_type": "code",
   "execution_count": 19,
   "id": "eff10678",
   "metadata": {},
   "outputs": [
    {
     "data": {
      "text/plain": [
       "0.8586792582648216"
      ]
     },
     "execution_count": 19,
     "metadata": {},
     "output_type": "execute_result"
    }
   ],
   "source": [
    "df_cluster0['Retiree_Index'].mean()"
   ]
  },
  {
   "cell_type": "code",
   "execution_count": 20,
   "id": "56c24520",
   "metadata": {},
   "outputs": [
    {
     "data": {
      "text/plain": [
       "0.8833979200376729"
      ]
     },
     "execution_count": 20,
     "metadata": {},
     "output_type": "execute_result"
    }
   ],
   "source": [
    "df_cluster0['YP_Index'].mean()"
   ]
  },
  {
   "cell_type": "code",
   "execution_count": 21,
   "id": "aea27cc8",
   "metadata": {},
   "outputs": [
    {
     "data": {
      "text/plain": [
       "0.6447326513200287"
      ]
     },
     "execution_count": 21,
     "metadata": {},
     "output_type": "execute_result"
    }
   ],
   "source": [
    "df_cluster1['Best_Value_Index'].mean()"
   ]
  },
  {
   "cell_type": "code",
   "execution_count": 22,
   "id": "f5906af4",
   "metadata": {},
   "outputs": [
    {
     "data": {
      "text/plain": [
       "0.6379595006803571"
      ]
     },
     "execution_count": 22,
     "metadata": {},
     "output_type": "execute_result"
    }
   ],
   "source": [
    "df_cluster1['CWYK_Index'].mean()"
   ]
  },
  {
   "cell_type": "code",
   "execution_count": 23,
   "id": "5a4487d7",
   "metadata": {},
   "outputs": [
    {
     "data": {
      "text/plain": [
       "0.661171102340575"
      ]
     },
     "execution_count": 23,
     "metadata": {},
     "output_type": "execute_result"
    }
   ],
   "source": [
    "df_cluster1['Retiree_Index'].mean()"
   ]
  },
  {
   "cell_type": "code",
   "execution_count": 24,
   "id": "f08bf46a",
   "metadata": {},
   "outputs": [
    {
     "data": {
      "text/plain": [
       "0.6863904412428519"
      ]
     },
     "execution_count": 24,
     "metadata": {},
     "output_type": "execute_result"
    }
   ],
   "source": [
    "df_cluster1['YP_Index'].mean()"
   ]
  },
  {
   "cell_type": "code",
   "execution_count": 25,
   "id": "534bbf52",
   "metadata": {},
   "outputs": [
    {
     "data": {
      "text/plain": [
       "0.7944440229249597"
      ]
     },
     "execution_count": 25,
     "metadata": {},
     "output_type": "execute_result"
    }
   ],
   "source": [
    "df_cluster2['Best_Value_Index'].mean()"
   ]
  },
  {
   "cell_type": "code",
   "execution_count": 26,
   "id": "f16e0f0b",
   "metadata": {},
   "outputs": [
    {
     "data": {
      "text/plain": [
       "0.7627017587304457"
      ]
     },
     "execution_count": 26,
     "metadata": {},
     "output_type": "execute_result"
    }
   ],
   "source": [
    "df_cluster2['CWYK_Index'].mean()"
   ]
  },
  {
   "cell_type": "code",
   "execution_count": 27,
   "id": "c2e62dbc",
   "metadata": {},
   "outputs": [
    {
     "data": {
      "text/plain": [
       "0.7798819573425207"
      ]
     },
     "execution_count": 27,
     "metadata": {},
     "output_type": "execute_result"
    }
   ],
   "source": [
    "df_cluster2['Retiree_Index'].mean()"
   ]
  },
  {
   "cell_type": "code",
   "execution_count": 28,
   "id": "f45280c5",
   "metadata": {},
   "outputs": [
    {
     "data": {
      "text/plain": [
       "0.7961909554237612"
      ]
     },
     "execution_count": 28,
     "metadata": {},
     "output_type": "execute_result"
    }
   ],
   "source": [
    "df_cluster2['YP_Index'].mean()"
   ]
  },
  {
   "cell_type": "code",
   "execution_count": 29,
   "id": "b94cf9f7",
   "metadata": {},
   "outputs": [
    {
     "data": {
      "text/plain": [
       "58"
      ]
     },
     "execution_count": 29,
     "metadata": {},
     "output_type": "execute_result"
    }
   ],
   "source": [
    "len(df_cluster1)"
   ]
  },
  {
   "cell_type": "code",
   "execution_count": 30,
   "id": "ad3ab0dd",
   "metadata": {},
   "outputs": [
    {
     "data": {
      "text/html": [
       "<div>\n",
       "<style scoped>\n",
       "    .dataframe tbody tr th:only-of-type {\n",
       "        vertical-align: middle;\n",
       "    }\n",
       "\n",
       "    .dataframe tbody tr th {\n",
       "        vertical-align: top;\n",
       "    }\n",
       "\n",
       "    .dataframe thead th {\n",
       "        text-align: right;\n",
       "    }\n",
       "</style>\n",
       "<table border=\"1\" class=\"dataframe\">\n",
       "  <thead>\n",
       "    <tr style=\"text-align: right;\">\n",
       "      <th></th>\n",
       "      <th>city</th>\n",
       "      <th>Best_Value_Index</th>\n",
       "      <th>CWYK_Index</th>\n",
       "      <th>Retiree_Index</th>\n",
       "      <th>YP_Index</th>\n",
       "      <th>clusters</th>\n",
       "    </tr>\n",
       "  </thead>\n",
       "  <tbody>\n",
       "    <tr>\n",
       "      <th>1</th>\n",
       "      <td>Addison village, Illinois</td>\n",
       "      <td>0.775693</td>\n",
       "      <td>0.757069</td>\n",
       "      <td>0.787693</td>\n",
       "      <td>0.806168</td>\n",
       "      <td>2</td>\n",
       "    </tr>\n",
       "    <tr>\n",
       "      <th>6</th>\n",
       "      <td>Alton city, Illinois</td>\n",
       "      <td>0.841474</td>\n",
       "      <td>0.788140</td>\n",
       "      <td>0.805556</td>\n",
       "      <td>0.801288</td>\n",
       "      <td>2</td>\n",
       "    </tr>\n",
       "    <tr>\n",
       "      <th>10</th>\n",
       "      <td>Apache Junction city, Arizona</td>\n",
       "      <td>0.799984</td>\n",
       "      <td>0.701263</td>\n",
       "      <td>0.784745</td>\n",
       "      <td>0.740550</td>\n",
       "      <td>2</td>\n",
       "    </tr>\n",
       "    <tr>\n",
       "      <th>14</th>\n",
       "      <td>Arlington city, Texas</td>\n",
       "      <td>0.806911</td>\n",
       "      <td>0.795784</td>\n",
       "      <td>0.783437</td>\n",
       "      <td>0.812881</td>\n",
       "      <td>2</td>\n",
       "    </tr>\n",
       "    <tr>\n",
       "      <th>17</th>\n",
       "      <td>Austin city, Texas</td>\n",
       "      <td>0.785879</td>\n",
       "      <td>0.775884</td>\n",
       "      <td>0.774323</td>\n",
       "      <td>0.875733</td>\n",
       "      <td>2</td>\n",
       "    </tr>\n",
       "    <tr>\n",
       "      <th>...</th>\n",
       "      <td>...</td>\n",
       "      <td>...</td>\n",
       "      <td>...</td>\n",
       "      <td>...</td>\n",
       "      <td>...</td>\n",
       "      <td>...</td>\n",
       "    </tr>\n",
       "    <tr>\n",
       "      <th>481</th>\n",
       "      <td>Weston city, Florida</td>\n",
       "      <td>0.730987</td>\n",
       "      <td>0.810927</td>\n",
       "      <td>0.742013</td>\n",
       "      <td>0.753252</td>\n",
       "      <td>2</td>\n",
       "    </tr>\n",
       "    <tr>\n",
       "      <th>485</th>\n",
       "      <td>Wilmette village, Illinois</td>\n",
       "      <td>0.779549</td>\n",
       "      <td>0.858791</td>\n",
       "      <td>0.859505</td>\n",
       "      <td>0.776794</td>\n",
       "      <td>2</td>\n",
       "    </tr>\n",
       "    <tr>\n",
       "      <th>488</th>\n",
       "      <td>Winter Park city, Florida</td>\n",
       "      <td>0.782184</td>\n",
       "      <td>0.815736</td>\n",
       "      <td>0.860703</td>\n",
       "      <td>0.837614</td>\n",
       "      <td>2</td>\n",
       "    </tr>\n",
       "    <tr>\n",
       "      <th>494</th>\n",
       "      <td>Yuma city, Arizona</td>\n",
       "      <td>0.819254</td>\n",
       "      <td>0.757194</td>\n",
       "      <td>0.759705</td>\n",
       "      <td>0.828967</td>\n",
       "      <td>2</td>\n",
       "    </tr>\n",
       "    <tr>\n",
       "      <th>495</th>\n",
       "      <td>Zion city, Illinois</td>\n",
       "      <td>0.826915</td>\n",
       "      <td>0.785680</td>\n",
       "      <td>0.755023</td>\n",
       "      <td>0.814385</td>\n",
       "      <td>2</td>\n",
       "    </tr>\n",
       "  </tbody>\n",
       "</table>\n",
       "<p>196 rows × 6 columns</p>\n",
       "</div>"
      ],
      "text/plain": [
       "                              city  Best_Value_Index  CWYK_Index  \\\n",
       "1        Addison village, Illinois          0.775693    0.757069   \n",
       "6             Alton city, Illinois          0.841474    0.788140   \n",
       "10   Apache Junction city, Arizona          0.799984    0.701263   \n",
       "14           Arlington city, Texas          0.806911    0.795784   \n",
       "17              Austin city, Texas          0.785879    0.775884   \n",
       "..                             ...               ...         ...   \n",
       "481           Weston city, Florida          0.730987    0.810927   \n",
       "485     Wilmette village, Illinois          0.779549    0.858791   \n",
       "488      Winter Park city, Florida          0.782184    0.815736   \n",
       "494             Yuma city, Arizona          0.819254    0.757194   \n",
       "495            Zion city, Illinois          0.826915    0.785680   \n",
       "\n",
       "     Retiree_Index  YP_Index  clusters  \n",
       "1         0.787693  0.806168         2  \n",
       "6         0.805556  0.801288         2  \n",
       "10        0.784745  0.740550         2  \n",
       "14        0.783437  0.812881         2  \n",
       "17        0.774323  0.875733         2  \n",
       "..             ...       ...       ...  \n",
       "481       0.742013  0.753252         2  \n",
       "485       0.859505  0.776794         2  \n",
       "488       0.860703  0.837614         2  \n",
       "494       0.759705  0.828967         2  \n",
       "495       0.755023  0.814385         2  \n",
       "\n",
       "[196 rows x 6 columns]"
      ]
     },
     "execution_count": 30,
     "metadata": {},
     "output_type": "execute_result"
    }
   ],
   "source": [
    "df_cluster2"
   ]
  },
  {
   "cell_type": "code",
   "execution_count": null,
   "id": "4ed87bca",
   "metadata": {},
   "outputs": [],
   "source": [
    "silhouette_avg.append(silhouette_score(data_frame, cluster_labels))\n",
    "plt.plot(range_n_clusters,silhouette_avg,’bx-’)"
   ]
  },
  {
   "cell_type": "code",
   "execution_count": null,
   "id": "f2f21189",
   "metadata": {},
   "outputs": [],
   "source": [
    "silhouette_score_average = silhouette_score(df_scaled, model.predict(df_scaled))"
   ]
  },
  {
   "cell_type": "code",
   "execution_count": 36,
   "id": "dcda0060",
   "metadata": {},
   "outputs": [
    {
     "name": "stdout",
     "output_type": "stream",
     "text": [
      "{2: 0.5038093533569631, 3: 0.3943163939125196, 4: 0.35832253562833033, 5: 0.3099231542290066, 6: 0.27988271011836724, 7: 0.27702820383085397, 8: 0.2637846737281404}\n"
     ]
    }
   ],
   "source": [
    "range_n_clusters = [2, 3, 4, 5, 6, 7, 8]\n",
    "silhouette_avg = {}\n",
    "\n",
    "from sklearn.metrics import silhouette_score\n",
    "\n",
    "for num_clusters in range_n_clusters:\n",
    "    #initialise kmeans\n",
    "    kmeans_n = KMeans(n_clusters=num_clusters)\n",
    "    \n",
    "    preds = kmeans_n.fit_predict(df1)\n",
    "    centers = kmeans_n.cluster_centers_\n",
    "    \n",
    "    #cluster_labels = kmeans.labels_\n",
    "    score = silhouette_score(df1, preds)\n",
    "    #print(\"For n_clusters = {}, silhouette score is {})\".format(num_clusters, score))\n",
    "    \n",
    "    \n",
    "    # silhouette score\n",
    "    silhouette_avg[num_clusters] = score\n",
    "    \n",
    "print(silhouette_avg)"
   ]
  },
  {
   "cell_type": "code",
   "execution_count": 42,
   "id": "cabefeb2",
   "metadata": {},
   "outputs": [
    {
     "data": {
      "text/plain": [
       "<matplotlib.collections.PathCollection at 0x20bae31ded0>"
      ]
     },
     "execution_count": 42,
     "metadata": {},
     "output_type": "execute_result"
    },
    {
     "data": {
      "image/png": "[encoded data removed]",
      "text/plain": [
       "<Figure size 640x480 with 1 Axes>"
      ]
     },
     "metadata": {},
     "output_type": "display_data"
    }
   ],
   "source": [
    "plt.scatter(list(silhouette_avg.keys()), \n",
    "            list(silhouette_avg.values()))"
   ]
  },
  {
   "cell_type": "code",
   "execution_count": 39,
   "id": "a9321cba",
   "metadata": {},
   "outputs": [
    {
     "data": {
      "text/plain": [
       "[2, 3, 4, 5, 6, 7, 8]"
      ]
     },
     "execution_count": 39,
     "metadata": {},
     "output_type": "execute_result"
    }
   ],
   "source": [
    "list(silhouette_avg.keys())"
   ]
  },
  {
   "cell_type": "code",
   "execution_count": null,
   "id": "e89e0038",
   "metadata": {},
   "outputs": [],
   "source": []
  }
 ],
 "metadata": {
  "kernelspec": {
   "display_name": "Python 3 (ipykernel)",
   "language": "python",
   "name": "python3"
  },
  "language_info": {
   "codemirror_mode": {
    "name": "ipython",
    "version": 3
   },
   "file_extension": ".py",
   "mimetype": "text/x-python",
   "name": "python",
   "nbconvert_exporter": "python",
   "pygments_lexer": "ipython3",
   "version": "3.10.7"
  }
 },
 "nbformat": 4,
 "nbformat_minor": 5
}
